{
 "cells": [
  {
   "cell_type": "code",
   "execution_count": null,
   "metadata": {
    "collapsed": true
   },
   "outputs": [],
   "source": [
    "username = \"\"\n",
    "password = \"\""
   ]
  },
  {
   "cell_type": "code",
   "execution_count": null,
   "metadata": {
    "collapsed": true
   },
   "outputs": [],
   "source": [
    "import os\n",
    "from bs4 import BeautifulSoup\n",
    "from urllib.request import urlopen\n",
    "from selenium import webdriver\n",
    "from selenium.webdriver.support.select import Select\n",
    "\n",
    "#url = \"http://authserver.nwafu.edu.cn/authserver/login\"\n",
    "url = \"http://authserver.nwafu.edu.cn/authserver/login\\\n",
    "?service=http%3A%2F%2Fjwgl.nwsuaf.edu.cn%2Facademic%2Flogin%2Fnwsuaf%2FloginIds6Valid.jsp\"\n",
    "\n",
    "#driver = webdriver.Firefox()\n",
    "driver = webdriver.PhantomJS(executable_path=\"phantomjs.exe\")\n",
    "\n",
    "pagesource = list()\n",
    "alltr = list()\n",
    "\n",
    "def login(username, password):\n",
    "    driver.get(url)\n",
    "    #driver.switch_to_frame(\"login-aside\")\n",
    "    driver.find_element_by_id(\"username\").send_keys(username)\n",
    "    driver.find_element_by_id(\"password\").send_keys(password)\n",
    "    driver.find_element_by_id(\"send-btn\").click()\n",
    "    \n",
    "def getAllGrades():\n",
    "    gradeUrl = \"http://jwgl.nwsuaf.edu.cn/academic/manager/score/studentOwnScore.do?groupId=&moduleId=2020\"\n",
    "    driver.get(gradeUrl)\n",
    "    alltag = driver.find_elements_by_tag_name(\"select\")\n",
    "    timetag = alltag[0]\n",
    "    seasontag = alltag[-1]\n",
    "    \n",
    "    \n",
    "    Select(timetag).select_by_value(\"\")\n",
    "    Select(seasontag).select_by_value(\"\")\n",
    "    driver.find_element_by_class_name(\"button\").click()\n",
    "    \n",
    "    global pagesource\n",
    "    \n",
    "    pagesource = driver.page_source\n",
    "    driver.quit()\n",
    "\n",
    "def parserPage():\n",
    "    soup = BeautifulSoup(pagesource,\"html.parser\")\n",
    "    #print(soup)\n",
    "    \n",
    "    table = soup.find_all(\"table\", class_=\"datalist\")\n",
    "    #print(table)\n",
    "    global alltr\n",
    "    alltr = table[0].find_all(\"tr\", class_=\"\")\n",
    "    #print(alltr)\n",
    "    \n",
    "def main():\n",
    "    login(username, password)\n",
    "    getAllGrades()\n",
    "    parserPage()\n",
    "\n",
    "main()"
   ]
  },
  {
   "cell_type": "code",
   "execution_count": null,
   "metadata": {
    "collapsed": true
   },
   "outputs": [],
   "source": [
    "isum = 0\n",
    "cntxuefen = 0\n",
    "\n",
    "for itr in alltr:\n",
    "    alltext = itr.find_all(\"td\")\n",
    "    if(len(alltext) > 1):\n",
    "        if(alltext[14].text.strip() != \"任选\"):\n",
    "            thisxuefen = float(alltext[11].text.strip())\n",
    "            thischenji = float(alltext[10].text.strip())\n",
    "            cntxuefen = cntxuefen + thisxuefen\n",
    "            isum = isum + thischenji*thisxuefen\n",
    "            #outfile.write(tmp.text.strip()+\" \")\n",
    "    \n",
    "print(cntxuefen, isum)\n",
    "print(isum/cntxuefen)\n"
   ]
  },
  {
   "cell_type": "code",
   "execution_count": null,
   "metadata": {
    "collapsed": true
   },
   "outputs": [],
   "source": [
    "outfile = open(\"data.txt\",\"w\")\n",
    "\n",
    "for i in range(1,21):\n",
    "    outfile.write(str(i)+\" \")\n",
    "outfile.write(\"\\n\")\n",
    "\n",
    "for itr in alltr:\n",
    "    alltext = itr.find_all(\"th\")\n",
    "    for tmp in alltext:\n",
    "        outfile.write(tmp.text.strip()+\" \")\n",
    "outfile.write(\"\\n\")\n",
    "\n",
    "for itr in alltr:\n",
    "    alltext = itr.find_all(\"td\")\n",
    "    for tmp in alltext:\n",
    "        outfile.write(tmp.text.strip()+\" \")\n",
    "    outfile.write(\"\\n\")\n",
    "\n",
    "outfile.close()"
   ]
  }
 ],
 "metadata": {
  "kernelspec": {
   "display_name": "Python 3",
   "language": "python",
   "name": "python3"
  },
  "language_info": {
   "codemirror_mode": {
    "name": "ipython",
    "version": 3
   },
   "file_extension": ".py",
   "mimetype": "text/x-python",
   "name": "python",
   "nbconvert_exporter": "python",
   "pygments_lexer": "ipython3",
   "version": "3.6.2"
  }
 },
 "nbformat": 4,
 "nbformat_minor": 2
}
