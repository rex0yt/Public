{
 "cells": [
  {
   "cell_type": "code",
   "execution_count": null,
   "metadata": {
    "scrolled": true
   },
   "outputs": [],
   "source": [
    "#爬取qq空间说说\n",
    "from bs4 import BeautifulSoup\n",
    "from selenium import webdriver\n",
    "import time\n",
    "\n",
    "#自己的用户名密码\n",
    "username = '1290401516'\n",
    "password = ''\n",
    "#别人的qq\n",
    "qq = '815503088'\n",
    "\n",
    "\n",
    "driver = webdriver.PhantomJS(executable_path=\"phantomjs.exe\")\n",
    "#driver.maximize_window()\n",
    "#driver = webdriver.Firefox()\n",
    "\n",
    "def get_shuoshuo():\n",
    "    driver.get('http://user.qzone.qq.com/' + qq + '/311')\n",
    "    driver.implicitly_wait(5)\n",
    "    page = driver.page_source\n",
    "    print(page)\n",
    "    try:\n",
    "        driver.find_element_by_id('login_div')\n",
    "        a = True\n",
    "    except:\n",
    "        a = False\n",
    "    if a == True:\n",
    "        driver.switch_to.frame('login_frame')\n",
    "        driver.find_element_by_id('switcher_plogin').click()\n",
    "        driver.find_element_by_id('u').clear()\n",
    "        driver.find_element_by_id('u').send_keys(username)\n",
    "        driver.find_element_by_id('p').clear()\n",
    "        driver.find_element_by_id('p').send_keys(password)\n",
    "        driver.find_element_by_id('login_button').click()\n",
    "        time.sleep(3)\n",
    "    driver.implicitly_wait(10)\n",
    "    driver.switch_to.default_content()\n",
    "    driver.switch_to.frame('app_canvas_frame')\n",
    "\n",
    "    next_page='page'\n",
    "    page=1\n",
    "        \n",
    "    content = []\n",
    "    stime = []\n",
    "    while next_page:\n",
    "        content.append(driver.find_elements_by_css_selector('.content'))\n",
    "        stime.append(driver.find_elements_by_css_selector('.c_tx.c_tx3.goDetail'))\n",
    "        for con,sti in zip(content[page-1],stime[page-1]):\n",
    "            data = {\n",
    "                'time':sti.text,\n",
    "                'shuos':con.text\n",
    "            }\n",
    "            print(data)\n",
    "        next_page=driver.find_element_by_link_text(u'下一页')\n",
    "        page=page+1\n",
    "        print(u'正在抓取第%d页面内容······'%page)\n",
    "        next_page.click()\n",
    "        \n",
    "        driver.implicitly_wait(10)\n",
    "        time.sleep(5)\n",
    "    driver.quit()\n",
    "\n",
    "get_shuoshuo()"
   ]
  }
 ],
 "metadata": {
  "kernelspec": {
   "display_name": "Python 3",
   "language": "python",
   "name": "python3"
  },
  "language_info": {
   "codemirror_mode": {
    "name": "ipython",
    "version": 3
   },
   "file_extension": ".py",
   "mimetype": "text/x-python",
   "name": "python",
   "nbconvert_exporter": "python",
   "pygments_lexer": "ipython3",
   "version": "3.6.2"
  }
 },
 "nbformat": 4,
 "nbformat_minor": 2
}
